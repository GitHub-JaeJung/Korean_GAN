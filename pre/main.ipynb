{
 "cells": [
  {
   "cell_type": "code",
   "execution_count": 266,
   "metadata": {},
   "outputs": [],
   "source": [
    "import cv2\n",
    "from PIL import Image, ImageFilter\n",
    "import numpy as np\n",
    "from matplotlib import pyplot as plt\n",
    "import copy\n",
    "import os"
   ]
  },
  {
   "cell_type": "code",
   "execution_count": 267,
   "metadata": {},
   "outputs": [
    {
     "name": "stdout",
     "output_type": "stream",
     "text": [
      "img_list_jpg: ['Scan_20220714_111019_19.jpg']\n"
     ]
    }
   ],
   "source": [
    "image_path = './scan/'\n",
    "\n",
    "img_list = os.listdir(image_path) #디렉토리 내 모든 파일 불러오기\n",
    "img_list_jpg = [img for img in img_list if img.endswith(\".jpg\")] #지정된 확장자만 필터링\n",
    "\n",
    "print (\"img_list_jpg: {}\".format(img_list_jpg))"
   ]
  },
  {
   "cell_type": "code",
   "execution_count": 268,
   "metadata": {},
   "outputs": [
    {
     "name": "stdout",
     "output_type": "stream",
     "text": [
      "Scan_20220714_111019_19.jpg  추가 완료 - 구조: (1123, 793, 3)\n"
     ]
    }
   ],
   "source": [
    "img_list_np = []\n",
    "\n",
    "for i in img_list_jpg:\n",
    "    img = Image.open(image_path + i)\n",
    "    img_array = np.array(img)\n",
    "    img_list_np.append(img_array)\n",
    "    print(i, \" 추가 완료 - 구조:\", img_array.shape) # 불러온 이미지의 차원 확인 (세로X가로X색)\n",
    "    #print(img_array.T.shape) #축변경 (색X가로X세로)"
   ]
  },
  {
   "cell_type": "code",
   "execution_count": 269,
   "metadata": {},
   "outputs": [
    {
     "name": "stdout",
     "output_type": "stream",
     "text": [
      "(1, 1123, 793, 3)\n"
     ]
    }
   ],
   "source": [
    "img_np = np.array(img_list_np) #리스트를 numpy로 변환\n",
    "print(img_np.shape)"
   ]
  },
  {
   "cell_type": "code",
   "execution_count": 270,
   "metadata": {},
   "outputs": [],
   "source": [
    "img_crop = []\n",
    "\n",
    "for i in range(len(img_np)):\n",
    "    img_crop = img_np[i][80:,150:]\n",
    "    img_gray = cv2.cvtColor(img_crop, cv2.COLOR_BGR2GRAY)\n",
    "    \n",
    "    thresh1 = cv2.adaptiveThreshold(img_gray, 255, cv2.ADAPTIVE_THRESH_GAUSSIAN_C, cv2.THRESH_BINARY, 51, 30)\n",
    "    \n",
    "    contours, hierarchy = cv2.findContours(thresh1, cv2.RETR_TREE, cv2.CHAIN_APPROX_SIMPLE)\n",
    "    img = copy.deepcopy(thresh1)\n",
    "    img_contour = cv2.drawContours(img, contours, -1, (0, 255, 0), 3)\n",
    "    contour_pos = []\n",
    "    # 면적이 \n",
    "    for pos in range(len(contours)):\n",
    "        area = cv2.contourArea(contours[pos])\n",
    "        if area > 3000:\n",
    "            contour_pos.append(pos)\n",
    "\n",
    "    # 면적 부분 오려내기\n",
    "    for pos in contour_pos:\n",
    "        x, y, w, h = cv2.boundingRect(contours[pos])\n",
    "        img_crop = img_temp[y:y + h, x:x + w]\n",
    "\n",
    "        \n",
    "    for p in contour_pos:\n",
    "        img_temp = copy.deepcopy(thresh1)\n",
    "        img_orig = copy.deepcopy(thresh1)\n",
    "        x, y, w, h = cv2.boundingRect(contours[p])\n",
    "\n",
    "        cnt = contours[p]\n",
    "        area = cv2.contourArea(cnt)\n",
    "\n",
    "        area_box = w*h\n",
    "\n",
    "        img_contour = cv2.drawContours(img_orig, contours, p, (0, 255, 0), 1)\n",
    "\n",
    "        cnt = contours[p]\n",
    "        M = cv2.moments(cnt)\n",
    "        cx = int(M['m10']/M['m00'])\n",
    "        cy = int(M['m01']/M['m00'])\n",
    "\n",
    "        # 좁게 추출\n",
    "        # for i in range(y, y + h):\n",
    "        #     px_lst = img_contour[i]\n",
    "        #     for j in range(x, x + w):\n",
    "        #         if (px_lst[j] == [0, 255, 0]).all():\n",
    "        \n",
    "        #             cv2.line(img_contour, (j, i), (cx, cy), (1, 2, 3), 2)\n",
    "\n",
    "        # img_crop = img_contour[y:y + h, x:x + w]\n",
    "\n",
    "        # 배경 날리기\n",
    "        for i in range(y, y + h):\n",
    "            px_lst = img_contour[i]\n",
    "        \n",
    "\n",
    "        img_save = img_temp[y:y + h, x:x + w]\n",
    "        img_save = img_save[1:85,10:100]\n",
    "        cv2.imwrite(\"./test5/image{}.png\".format(p), img_save)"
   ]
  },
  {
   "cell_type": "code",
   "execution_count": 272,
   "metadata": {},
   "outputs": [
    {
     "data": {
      "text/plain": [
       "<matplotlib.image.AxesImage at 0x247aea44708>"
      ]
     },
     "execution_count": 272,
     "metadata": {},
     "output_type": "execute_result"
    },
    {
     "data": {
      "image/png": "[encoded data removed]",
      "text/plain": [
       "<Figure size 1080x1080 with 1 Axes>"
      ]
     },
     "metadata": {
      "needs_background": "light"
     },
     "output_type": "display_data"
    }
   ],
   "source": [
    "img_original = cv2.imread('./train/img/ba (1).png')\n",
    "plt.figure(figsize = (15, 15))\n",
    "plt.imshow(img_original)"
   ]
  },
  {
   "cell_type": "code",
   "execution_count": 273,
   "metadata": {},
   "outputs": [
    {
     "data": {
      "text/plain": [
       "array([[[255, 255, 255],\n",
       "        [255, 255, 255],\n",
       "        [255, 255, 255],\n",
       "        ...,\n",
       "        [255, 255, 255],\n",
       "        [255, 255, 255],\n",
       "        [255, 255, 255]],\n",
       "\n",
       "       [[255, 255, 255],\n",
       "        [255, 255, 255],\n",
       "        [255, 255, 255],\n",
       "        ...,\n",
       "        [255, 255, 255],\n",
       "        [255, 255, 255],\n",
       "        [255, 255, 255]],\n",
       "\n",
       "       [[255, 255, 255],\n",
       "        [255, 255, 255],\n",
       "        [255, 255, 255],\n",
       "        ...,\n",
       "        [255, 255, 255],\n",
       "        [255, 255, 255],\n",
       "        [255, 255, 255]],\n",
       "\n",
       "       ...,\n",
       "\n",
       "       [[255, 255, 255],\n",
       "        [255, 255, 255],\n",
       "        [255, 255, 255],\n",
       "        ...,\n",
       "        [255, 255, 255],\n",
       "        [255, 255, 255],\n",
       "        [255, 255, 255]],\n",
       "\n",
       "       [[255, 255, 255],\n",
       "        [255, 255, 255],\n",
       "        [255, 255, 255],\n",
       "        ...,\n",
       "        [255, 255, 255],\n",
       "        [255, 255, 255],\n",
       "        [255, 255, 255]],\n",
       "\n",
       "       [[255, 255, 255],\n",
       "        [255, 255, 255],\n",
       "        [255, 255, 255],\n",
       "        ...,\n",
       "        [255, 255, 255],\n",
       "        [255, 255, 255],\n",
       "        [255, 255, 255]]], dtype=uint8)"
      ]
     },
     "execution_count": 273,
     "metadata": {},
     "output_type": "execute_result"
    }
   ],
   "source": [
    "img_original"
   ]
  }
 ],
 "metadata": {
  "kernelspec": {
   "display_name": "Python 3.7.13 ('tf22')",
   "language": "python",
   "name": "python3"
  },
  "language_info": {
   "codemirror_mode": {
    "name": "ipython",
    "version": 3
   },
   "file_extension": ".py",
   "mimetype": "text/x-python",
   "name": "python",
   "nbconvert_exporter": "python",
   "pygments_lexer": "ipython3",
   "version": "3.7.13"
  },
  "orig_nbformat": 4,
  "vscode": {
   "interpreter": {
    "hash": "203969d05a5734cc326d028b966d5f170c7a872bc754bac874a33721ea874597"
   }
  }
 },
 "nbformat": 4,
 "nbformat_minor": 2
}
